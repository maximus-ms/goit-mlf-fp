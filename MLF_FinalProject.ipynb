{
 "cells": [
  {
   "cell_type": "markdown",
   "id": "970b9473",
   "metadata": {},
   "source": [
    "# Фінальний проект. Основи машинного навчання."
   ]
  },
  {
   "cell_type": "markdown",
   "id": "098bf933",
   "metadata": {},
   "source": [
    "## Завдання.\n",
    "Побудувати модель бінарної класифікації."
   ]
  },
  {
   "cell_type": "markdown",
   "id": "538aefcf",
   "metadata": {},
   "source": [
    "## Виконання.\n",
    "\n",
    "Робота виконувалася ітеративно, постійно змінювалися підходи до підготовки даних. Було випробувано велику кількість моделей з базовими метапараметрами.\n",
    "Алгоритим дій, що описаний в даній роботі - це один за найпростіших підходів у поєднанні з найкращими показники метрики `balanced_accuracy_score`.\n",
    "\n",
    "Підходи до підготовки даних, що були протестовані, але були виключені:\n",
    "\n",
    "1. Видалення всіх Пропущених значень.\n",
    "2. Заповнення пропусків в категоріальних ознаках модою.\n",
    "3. Різні види скейлерів для числових ознак (наприклад `MinMaxScaler`, `RobustScaler`)\n",
    "4. `KNNImputer` для заповнення пропусків.\n",
    "5. `PolynomialFeatures` для числових ознак.\n",
    "6. Та інше.\n",
    "\n",
    "Список моделей, що були випробувані:\n",
    "\n",
    "1. `PCA`\n",
    "2. `RandomForestClassifier`\n",
    "3. `GradientBoostingClassifier`\n",
    "4. `HistGradientBoostingClassifier`\n",
    "5. `LogisticRegression`\n",
    "6. `SVC`\n",
    "7. `CatBoostClassifier`\n",
    "8. `LGBMClassifier`\n",
    "9. `XGBClassifier`"
   ]
  },
  {
   "cell_type": "markdown",
   "id": "c7fca129",
   "metadata": {},
   "source": [
    "### 1. Імпорт бібліотек."
   ]
  },
  {
   "cell_type": "code",
   "execution_count": 1,
   "id": "76e46f4a",
   "metadata": {},
   "outputs": [],
   "source": [
    "import pandas as pd\n",
    "import numpy as np\n",
    "import matplotlib.pyplot as plt\n",
    "import xgboost as xgb\n",
    "from sklearn.base import BaseEstimator, TransformerMixin\n",
    "from sklearn.model_selection import train_test_split\n",
    "from sklearn.model_selection import cross_val_score, RandomizedSearchCV, GridSearchCV, StratifiedKFold\n",
    "from sklearn.metrics import balanced_accuracy_score\n",
    "from sklearn.preprocessing import StandardScaler\n",
    "from sklearn.preprocessing import TargetEncoder\n",
    "from sklearn.impute import SimpleImputer\n",
    "from sklearn.compose import make_column_transformer, make_column_selector\n",
    "from imblearn.over_sampling import SMOTE\n",
    "from imblearn.pipeline import make_pipeline\n",
    "\n",
    "from sklearn import set_config\n",
    "set_config(transform_output=\"pandas\")"
   ]
  },
  {
   "cell_type": "markdown",
   "id": "293dda26",
   "metadata": {},
   "source": [
    "### 2. Кілька функцій для зручного перевикористання шматків коду."
   ]
  },
  {
   "cell_type": "code",
   "execution_count": 2,
   "id": "f0e0e54f",
   "metadata": {
    "lines_to_next_cell": 1
   },
   "outputs": [],
   "source": [
    "def load_train():\n",
    "    return pd.read_csv('./datasets/final_proj_data.csv')\n",
    "\n",
    "def load_test():\n",
    "    return pd.read_csv('./datasets/final_proj_test.csv')\n",
    "\n",
    "def write_submission(y_pred, filename='./datasets/submission.csv'):\n",
    "    df = pd.DataFrame({'y': y_pred})\n",
    "    df.index.name = 'index'\n",
    "    df.to_csv(filename)\n",
    "\n",
    "def get_num_cat(df):\n",
    "    num = df.select_dtypes(include=np.number)\n",
    "    cat = df.select_dtypes(include='object')\n",
    "    return num, cat"
   ]
  },
  {
   "cell_type": "markdown",
   "id": "28dad887",
   "metadata": {},
   "source": [
    "### 3. Аналіз даних."
   ]
  },
  {
   "cell_type": "code",
   "execution_count": 3,
   "id": "12b46250",
   "metadata": {},
   "outputs": [],
   "source": [
    "Xy = load_train()\n",
    "\n",
    "y = Xy.y\n",
    "X = Xy.drop(columns=['y'])\n",
    "\n",
    "lines_num, columns_num = X.shape"
   ]
  },
  {
   "cell_type": "code",
   "execution_count": 4,
   "id": "306f80e3",
   "metadata": {},
   "outputs": [
    {
     "name": "stdout",
     "output_type": "stream",
     "text": [
      "<class 'pandas.core.frame.DataFrame'>\n",
      "RangeIndex: 10000 entries, 0 to 9999\n",
      "Columns: 230 entries, Var1 to Var230\n",
      "dtypes: float64(191), int64(1), object(38)\n",
      "memory usage: 17.5+ MB\n"
     ]
    }
   ],
   "source": [
    "X.info()"
   ]
  },
  {
   "cell_type": "markdown",
   "id": "24bb016e",
   "metadata": {},
   "source": [
    "Як бачимо, у нас 192 колонки числові, і 38 - типу `object`."
   ]
  },
  {
   "cell_type": "markdown",
   "id": "2f76b192",
   "metadata": {},
   "source": [
    "Аналізуємо базові статистичні дані нашого датасету, щоб отримати хоча б якесь уявлення про характер числових значень."
   ]
  },
  {
   "cell_type": "code",
   "execution_count": 5,
   "id": "a440f515",
   "metadata": {},
   "outputs": [
    {
     "data": {
      "text/html": [
       "<div>\n",
       "<style scoped>\n",
       "    .dataframe tbody tr th:only-of-type {\n",
       "        vertical-align: middle;\n",
       "    }\n",
       "\n",
       "    .dataframe tbody tr th {\n",
       "        vertical-align: top;\n",
       "    }\n",
       "\n",
       "    .dataframe thead th {\n",
       "        text-align: right;\n",
       "    }\n",
       "</style>\n",
       "<table border=\"1\" class=\"dataframe\">\n",
       "  <thead>\n",
       "    <tr style=\"text-align: right;\">\n",
       "      <th></th>\n",
       "      <th>count</th>\n",
       "      <th>mean</th>\n",
       "      <th>std</th>\n",
       "      <th>min</th>\n",
       "      <th>25%</th>\n",
       "      <th>50%</th>\n",
       "      <th>75%</th>\n",
       "      <th>max</th>\n",
       "    </tr>\n",
       "  </thead>\n",
       "  <tbody>\n",
       "    <tr>\n",
       "      <th>Var1</th>\n",
       "      <td>133.0</td>\n",
       "      <td>14.977444</td>\n",
       "      <td>66.456008</td>\n",
       "      <td>0.0</td>\n",
       "      <td>0.000</td>\n",
       "      <td>0.00</td>\n",
       "      <td>16.000</td>\n",
       "      <td>680.00</td>\n",
       "    </tr>\n",
       "    <tr>\n",
       "      <th>Var2</th>\n",
       "      <td>266.0</td>\n",
       "      <td>0.000000</td>\n",
       "      <td>0.000000</td>\n",
       "      <td>0.0</td>\n",
       "      <td>0.000</td>\n",
       "      <td>0.00</td>\n",
       "      <td>0.000</td>\n",
       "      <td>0.00</td>\n",
       "    </tr>\n",
       "    <tr>\n",
       "      <th>Var3</th>\n",
       "      <td>266.0</td>\n",
       "      <td>341.052632</td>\n",
       "      <td>2810.606975</td>\n",
       "      <td>0.0</td>\n",
       "      <td>0.000</td>\n",
       "      <td>0.00</td>\n",
       "      <td>0.000</td>\n",
       "      <td>42588.00</td>\n",
       "    </tr>\n",
       "    <tr>\n",
       "      <th>Var4</th>\n",
       "      <td>280.0</td>\n",
       "      <td>0.096429</td>\n",
       "      <td>0.928243</td>\n",
       "      <td>0.0</td>\n",
       "      <td>0.000</td>\n",
       "      <td>0.00</td>\n",
       "      <td>0.000</td>\n",
       "      <td>9.00</td>\n",
       "    </tr>\n",
       "    <tr>\n",
       "      <th>Var5</th>\n",
       "      <td>241.0</td>\n",
       "      <td>233810.124481</td>\n",
       "      <td>553230.515446</td>\n",
       "      <td>0.0</td>\n",
       "      <td>0.000</td>\n",
       "      <td>0.00</td>\n",
       "      <td>117235.000</td>\n",
       "      <td>3024000.00</td>\n",
       "    </tr>\n",
       "    <tr>\n",
       "      <th>...</th>\n",
       "      <td>...</td>\n",
       "      <td>...</td>\n",
       "      <td>...</td>\n",
       "      <td>...</td>\n",
       "      <td>...</td>\n",
       "      <td>...</td>\n",
       "      <td>...</td>\n",
       "      <td>...</td>\n",
       "    </tr>\n",
       "    <tr>\n",
       "      <th>Var188</th>\n",
       "      <td>266.0</td>\n",
       "      <td>159.107368</td>\n",
       "      <td>115.766972</td>\n",
       "      <td>0.0</td>\n",
       "      <td>18.840</td>\n",
       "      <td>194.67</td>\n",
       "      <td>247.080</td>\n",
       "      <td>452.76</td>\n",
       "    </tr>\n",
       "    <tr>\n",
       "      <th>Var189</th>\n",
       "      <td>4206.0</td>\n",
       "      <td>272.455064</td>\n",
       "      <td>86.752531</td>\n",
       "      <td>6.0</td>\n",
       "      <td>204.000</td>\n",
       "      <td>270.00</td>\n",
       "      <td>330.000</td>\n",
       "      <td>642.00</td>\n",
       "    </tr>\n",
       "    <tr>\n",
       "      <th>Var190</th>\n",
       "      <td>43.0</td>\n",
       "      <td>25725.112326</td>\n",
       "      <td>37487.484852</td>\n",
       "      <td>0.0</td>\n",
       "      <td>1312.875</td>\n",
       "      <td>10853.82</td>\n",
       "      <td>37491.525</td>\n",
       "      <td>191167.20</td>\n",
       "    </tr>\n",
       "    <tr>\n",
       "      <th>Var209</th>\n",
       "      <td>0.0</td>\n",
       "      <td>NaN</td>\n",
       "      <td>NaN</td>\n",
       "      <td>NaN</td>\n",
       "      <td>NaN</td>\n",
       "      <td>NaN</td>\n",
       "      <td>NaN</td>\n",
       "      <td>NaN</td>\n",
       "    </tr>\n",
       "    <tr>\n",
       "      <th>Var230</th>\n",
       "      <td>0.0</td>\n",
       "      <td>NaN</td>\n",
       "      <td>NaN</td>\n",
       "      <td>NaN</td>\n",
       "      <td>NaN</td>\n",
       "      <td>NaN</td>\n",
       "      <td>NaN</td>\n",
       "      <td>NaN</td>\n",
       "    </tr>\n",
       "  </tbody>\n",
       "</table>\n",
       "<p>192 rows × 8 columns</p>\n",
       "</div>"
      ],
      "text/plain": [
       "         count           mean            std  min       25%       50%  \\\n",
       "Var1     133.0      14.977444      66.456008  0.0     0.000      0.00   \n",
       "Var2     266.0       0.000000       0.000000  0.0     0.000      0.00   \n",
       "Var3     266.0     341.052632    2810.606975  0.0     0.000      0.00   \n",
       "Var4     280.0       0.096429       0.928243  0.0     0.000      0.00   \n",
       "Var5     241.0  233810.124481  553230.515446  0.0     0.000      0.00   \n",
       "...        ...            ...            ...  ...       ...       ...   \n",
       "Var188   266.0     159.107368     115.766972  0.0    18.840    194.67   \n",
       "Var189  4206.0     272.455064      86.752531  6.0   204.000    270.00   \n",
       "Var190    43.0   25725.112326   37487.484852  0.0  1312.875  10853.82   \n",
       "Var209     0.0            NaN            NaN  NaN       NaN       NaN   \n",
       "Var230     0.0            NaN            NaN  NaN       NaN       NaN   \n",
       "\n",
       "               75%         max  \n",
       "Var1        16.000      680.00  \n",
       "Var2         0.000        0.00  \n",
       "Var3         0.000    42588.00  \n",
       "Var4         0.000        9.00  \n",
       "Var5    117235.000  3024000.00  \n",
       "...            ...         ...  \n",
       "Var188     247.080      452.76  \n",
       "Var189     330.000      642.00  \n",
       "Var190   37491.525   191167.20  \n",
       "Var209         NaN         NaN  \n",
       "Var230         NaN         NaN  \n",
       "\n",
       "[192 rows x 8 columns]"
      ]
     },
     "execution_count": 5,
     "metadata": {},
     "output_type": "execute_result"
    }
   ],
   "source": [
    "descr = X.describe().T\n",
    "descr"
   ]
  },
  {
   "cell_type": "markdown",
   "id": "3dc4c3ac",
   "metadata": {},
   "source": [
    "Перевіряємо, що ми не маємо пропусків в цільовій змінній."
   ]
  },
  {
   "cell_type": "code",
   "execution_count": 6,
   "id": "bbd45fe6",
   "metadata": {},
   "outputs": [
    {
     "name": "stdout",
     "output_type": "stream",
     "text": [
      "<class 'pandas.core.series.Series'>\n",
      "RangeIndex: 10000 entries, 0 to 9999\n",
      "Series name: y\n",
      "Non-Null Count  Dtype\n",
      "--------------  -----\n",
      "10000 non-null  int64\n",
      "dtypes: int64(1)\n",
      "memory usage: 78.3 KB\n"
     ]
    },
    {
     "data": {
      "text/plain": [
       "(None, 1305)"
      ]
     },
     "execution_count": 6,
     "metadata": {},
     "output_type": "execute_result"
    }
   ],
   "source": [
    "y.info(), y.sum()"
   ]
  },
  {
   "cell_type": "markdown",
   "id": "b12f85bd",
   "metadata": {},
   "source": [
    "Оцінюємо наявні пропуски."
   ]
  },
  {
   "cell_type": "code",
   "execution_count": 7,
   "id": "e2caae5f",
   "metadata": {
    "lines_to_next_cell": 2
   },
   "outputs": [
    {
     "data": {
      "text/plain": [
       "empty    18\n",
       "0.2      76\n",
       "0.3      74\n",
       "0.4      74\n",
       "0.5      71\n",
       "0.6      67\n",
       "0.7      67\n",
       "0.8      66\n",
       "0.9      49\n",
       "full     21\n",
       "dtype: int64"
      ]
     },
     "execution_count": 7,
     "metadata": {},
     "output_type": "execute_result"
    }
   ],
   "source": [
    "cnt = X.count()\n",
    "num_column_info = pd.DataFrame({'empty'  : cnt == 0,\n",
    "                                '0.2'    : cnt >= lines_num * 0.2,\n",
    "                                '0.3'    : cnt >= lines_num * 0.3,\n",
    "                                '0.4'    : cnt >= lines_num * 0.4,\n",
    "                                '0.5'    : cnt >= lines_num * 0.5,\n",
    "                                '0.6'    : cnt >= lines_num * 0.6,\n",
    "                                '0.7'    : cnt >= lines_num * 0.7,\n",
    "                                '0.8'    : cnt >= lines_num * 0.8,\n",
    "                                '0.9'    : cnt >= lines_num * 0.9,\n",
    "                                'full'   : cnt == lines_num,\n",
    "                              })\n",
    "\n",
    "num_column_info.sum()"
   ]
  },
  {
   "cell_type": "markdown",
   "id": "186b23a7",
   "metadata": {},
   "source": [
    "Як бачимо, наш датасет має дуже багато пропусків. 18 ознак взагалі без жодних записів, лиш 67 ознак, що мають ступіть заповненості більше 70%, і лише 21 ознаку без жодних пропусків."
   ]
  },
  {
   "cell_type": "markdown",
   "id": "d7f26b80",
   "metadata": {},
   "source": [
    "Маємо приймати до уваги, що заповнення такої великої кількості пропускім якимись значеннями скоріш за все призведе до викривлення моделі.\n",
    "А отже було прийнято рішення спочатку отримати важливість кожної з ознак, при умові, що всі пропуски заповнені. Потім, видалити ознаки які мають критичний рівень пропусків, але при цьому, не видаляти ознаки, які мають високу важливість.\n",
    "Оскільки цей процес був ітеративний (багаторазове виконання одного й того ж коду, але з різниною підготовкою даних), то далі опишу лиш основний алгоритм.\n",
    "Також варто зауважити, що робити оцінку ознак важливо на таких даних, які максимально схожі на ті, що буде використовувати модель у реальній роботі.\n",
    "Тому цю оцінку робимо на повністю підготовлених всіх доступних даних, а також на саме тій моделі, яку вкінці кінців вирішили використовувати для передбачень."
   ]
  },
  {
   "cell_type": "markdown",
   "id": "6fc7a1d8",
   "metadata": {},
   "source": [
    "### 3. Підготовка даних."
   ]
  },
  {
   "cell_type": "markdown",
   "id": "725d1494",
   "metadata": {},
   "source": [
    "Далі, в ході експериментів, було прийнято рішення написати свій клас видалення ознак за рівнем пропусків, нам цей клас потім знадобиться в пайплайні.\n",
    "Поки наводжу тут фінальний код класу, але деякі пояснення по його особливостям зустрінемо далі в коментарях."
   ]
  },
  {
   "cell_type": "code",
   "execution_count": 8,
   "id": "5fadbfab",
   "metadata": {},
   "outputs": [],
   "source": [
    "class DropColumns(BaseEstimator, TransformerMixin):\n",
    "    def __init__(self, threshold=0.3, columns_to_drop=[]):\n",
    "        pass\n",
    "        self.threshold = threshold\n",
    "        self.white_list = ['Var200']\n",
    "        self.columns_to_drop = columns_to_drop\n",
    "\n",
    "    def fit(self, X, y=None):\n",
    "        t_set = set(self.columns_to_drop) | set([c for c in X.columns if X[c].isna().mean() > self.threshold])\n",
    "\n",
    "        t_set = t_set - set(self.white_list)\n",
    "\n",
    "        self.columns_to_drop = list(t_set)\n",
    "        return self\n",
    "\n",
    "    def transform(self, X, y=None):\n",
    "        return X.drop(columns=self.columns_to_drop)"
   ]
  },
  {
   "cell_type": "markdown",
   "id": "12adc902",
   "metadata": {},
   "source": [
    "Видаляємо колонки, які мають 99.99999% пропусків, тобто повністю пусті ознаки."
   ]
  },
  {
   "cell_type": "code",
   "execution_count": 9,
   "id": "8e781595",
   "metadata": {},
   "outputs": [
    {
     "data": {
      "text/plain": [
       "(10000, 212)"
      ]
     },
     "execution_count": 9,
     "metadata": {},
     "output_type": "execute_result"
    }
   ],
   "source": [
    "y = Xy.y\n",
    "X = Xy.drop(columns=['y'])\n",
    "\n",
    "X = DropColumns(threshold=0.9999999).fit_transform(X)\n",
    "X.shape"
   ]
  },
  {
   "cell_type": "markdown",
   "id": "e09e785b",
   "metadata": {},
   "source": [
    "Розділяємо наші дані на числові і не-числові. Тут варто зазначити, оскільки всі наші ознаки позбавлені справжніх назв, і ми не можемо однозначно інтерпретувати їх суть,\n",
    "то по замовчуванню вважаємо всі нечислові ознаки категоріальними і будемо оперувати з ними відповідно."
   ]
  },
  {
   "cell_type": "code",
   "execution_count": 10,
   "id": "f3886c40",
   "metadata": {},
   "outputs": [],
   "source": [
    "x_num, x_cat = get_num_cat(X)"
   ]
  },
  {
   "cell_type": "code",
   "execution_count": 11,
   "id": "ddd82a85",
   "metadata": {},
   "outputs": [
    {
     "name": "stdout",
     "output_type": "stream",
     "text": [
      "<class 'pandas.core.frame.DataFrame'>\n",
      "RangeIndex: 10000 entries, 0 to 9999\n",
      "Columns: 174 entries, Var1 to Var190\n",
      "dtypes: float64(173), int64(1)\n",
      "memory usage: 13.3 MB\n"
     ]
    }
   ],
   "source": [
    "x_num.info()"
   ]
  },
  {
   "cell_type": "code",
   "execution_count": 12,
   "id": "e9836b1e",
   "metadata": {},
   "outputs": [
    {
     "name": "stdout",
     "output_type": "stream",
     "text": [
      "<class 'pandas.core.frame.DataFrame'>\n",
      "RangeIndex: 10000 entries, 0 to 9999\n",
      "Data columns (total 38 columns):\n",
      " #   Column  Non-Null Count  Dtype \n",
      "---  ------  --------------  ----- \n",
      " 0   Var191  170 non-null    object\n",
      " 1   Var192  9921 non-null   object\n",
      " 2   Var193  10000 non-null  object\n",
      " 3   Var194  2533 non-null   object\n",
      " 4   Var195  10000 non-null  object\n",
      " 5   Var196  10000 non-null  object\n",
      " 6   Var197  9972 non-null   object\n",
      " 7   Var198  10000 non-null  object\n",
      " 8   Var199  10000 non-null  object\n",
      " 9   Var200  5043 non-null   object\n",
      " 10  Var201  2533 non-null   object\n",
      " 11  Var202  10000 non-null  object\n",
      " 12  Var203  9972 non-null   object\n",
      " 13  Var204  10000 non-null  object\n",
      " 14  Var205  9614 non-null   object\n",
      " 15  Var206  8980 non-null   object\n",
      " 16  Var207  10000 non-null  object\n",
      " 17  Var208  9972 non-null   object\n",
      " 18  Var210  10000 non-null  object\n",
      " 19  Var211  10000 non-null  object\n",
      " 20  Var212  10000 non-null  object\n",
      " 21  Var213  171 non-null    object\n",
      " 22  Var214  5043 non-null   object\n",
      " 23  Var215  131 non-null    object\n",
      " 24  Var216  10000 non-null  object\n",
      " 25  Var217  9872 non-null   object\n",
      " 26  Var218  9872 non-null   object\n",
      " 27  Var219  8987 non-null   object\n",
      " 28  Var220  10000 non-null  object\n",
      " 29  Var221  10000 non-null  object\n",
      " 30  Var222  10000 non-null  object\n",
      " 31  Var223  8987 non-null   object\n",
      " 32  Var224  167 non-null    object\n",
      " 33  Var225  4891 non-null   object\n",
      " 34  Var226  10000 non-null  object\n",
      " 35  Var227  10000 non-null  object\n",
      " 36  Var228  10000 non-null  object\n",
      " 37  Var229  4439 non-null   object\n",
      "dtypes: object(38)\n",
      "memory usage: 2.9+ MB\n"
     ]
    }
   ],
   "source": [
    "x_cat.info()"
   ]
  },
  {
   "cell_type": "markdown",
   "id": "d1744f97",
   "metadata": {},
   "source": [
    "Заповнимо всі пропуски в категоріальних ознаках значеннями `__unknown_val__`. Та застосуємо `TargetEncoder`."
   ]
  },
  {
   "cell_type": "code",
   "execution_count": 13,
   "id": "725ff36c",
   "metadata": {},
   "outputs": [],
   "source": [
    "cat_imputer = SimpleImputer(strategy='constant', fill_value='__unknown_val__').fit(x_cat)\n",
    "x_cat = cat_imputer.transform(x_cat)\n",
    "\n",
    "cat_encoder = TargetEncoder(random_state=42).fit(x_cat, y)\n",
    "x_cat = cat_encoder.transform(x_cat)"
   ]
  },
  {
   "cell_type": "markdown",
   "id": "250628ff",
   "metadata": {},
   "source": [
    "Пропуски в числових ознаках просто заповнимо середнім значенням. І зстосуємо `StandardScaler`."
   ]
  },
  {
   "cell_type": "code",
   "execution_count": 14,
   "id": "f5d5510e",
   "metadata": {},
   "outputs": [],
   "source": [
    "num_imputer = SimpleImputer(strategy='mean').fit(x_num)\n",
    "x_num = num_imputer.transform(x_num)\n",
    "\n",
    "scaler = StandardScaler().fit(x_num, y)\n",
    "x_num = scaler.transform(x_num)"
   ]
  },
  {
   "cell_type": "markdown",
   "id": "a3b33bfe",
   "metadata": {},
   "source": [
    "Об\"єднуємо, перевіряємо, що у нас не лишилося пропусків."
   ]
  },
  {
   "cell_type": "code",
   "execution_count": 15,
   "id": "cf4f38b4",
   "metadata": {},
   "outputs": [],
   "source": [
    "x = pd.concat([x_num, x_cat], axis=1)"
   ]
  },
  {
   "cell_type": "code",
   "execution_count": 16,
   "id": "aef9b4b7",
   "metadata": {},
   "outputs": [
    {
     "name": "stdout",
     "output_type": "stream",
     "text": [
      "<class 'pandas.core.frame.DataFrame'>\n",
      "RangeIndex: 10000 entries, 0 to 9999\n",
      "Columns: 212 entries, Var1 to Var229\n",
      "dtypes: float64(212)\n",
      "memory usage: 16.2 MB\n"
     ]
    }
   ],
   "source": [
    "x.info()"
   ]
  },
  {
   "cell_type": "markdown",
   "id": "50e5f6ee",
   "metadata": {},
   "source": [
    "Раніше ми бачили, що наше цільове значення дуже не збалансоване (лиш 1305 одиниць із 10000 значень).\n",
    "То ж застосуємо `SMOTE` для балансування. І оскільки цей алгоритм використовує у своєму механізмі вимірювання відстаней до к-сусідів, то наші дані мають бути нормовані,\n",
    "саме цьому на попередньому етапі ми застосовували `StandardScaler` до числових ознак, а для категоріальних `TargetEncoder` зробив за нас цю роботу, закодувавши текстові значення в числа уже в нормованому вигляді."
   ]
  },
  {
   "cell_type": "code",
   "execution_count": 17,
   "id": "9075acad",
   "metadata": {},
   "outputs": [],
   "source": [
    "x, y = SMOTE(random_state=42, k_neighbors=7).fit_resample(x, y)"
   ]
  },
  {
   "cell_type": "code",
   "execution_count": 18,
   "id": "9137d33a",
   "metadata": {},
   "outputs": [
    {
     "name": "stdout",
     "output_type": "stream",
     "text": [
      "<class 'pandas.core.frame.DataFrame'>\n",
      "RangeIndex: 17390 entries, 0 to 17389\n",
      "Columns: 212 entries, Var1 to Var229\n",
      "dtypes: float64(212)\n",
      "memory usage: 28.1 MB\n"
     ]
    }
   ],
   "source": [
    "x.info()"
   ]
  },
  {
   "cell_type": "markdown",
   "id": "64c8f01b",
   "metadata": {},
   "source": [
    "Все, дані готові. Натренуємо модель, запишемо `feature_importances` в окремий датафрейм.\n",
    "Було зрозблено кілька ітерацій по оцінці важливості ознак при різних способах підготовки даних, і зокрема - при видаленні ознак з різним % вмісту пропусків."
   ]
  },
  {
   "cell_type": "code",
   "execution_count": 19,
   "id": "c1e327ab",
   "metadata": {
    "lines_to_next_cell": 1
   },
   "outputs": [],
   "source": [
    "def draw_feature_importance(columns, fi):\n",
    "    plt.figure(figsize=(10, 8))\n",
    "    pd.Series(data=fi, index=columns\n",
    "              ).sort_values(ascending=True).plot.barh()\n",
    "    plt.show()\n",
    "\n",
    "def calc_feature_importance_with_model(model, x, y):\n",
    "    m = model.fit(x, y)\n",
    "    draw_feature_importance(x.columns, m.feature_importances_)\n",
    "    return m.feature_importances_"
   ]
  },
  {
   "cell_type": "code",
   "execution_count": 20,
   "id": "d5b99026",
   "metadata": {},
   "outputs": [],
   "source": [
    "xx = x\n",
    "yy = y"
   ]
  },
  {
   "cell_type": "code",
   "execution_count": 21,
   "id": "c141eb57",
   "metadata": {},
   "outputs": [
    {
     "data": {
      "image/png": "[encoded data removed]",
      "text/plain": [
       "<Figure size 1000x800 with 1 Axes>"
      ]
     },
     "metadata": {},
     "output_type": "display_data"
    }
   ],
   "source": [
    "fi = calc_feature_importance_with_model(xgb.XGBClassifier(random_state=42, enable_categorical=True), xx, yy)"
   ]
  },
  {
   "cell_type": "code",
   "execution_count": 22,
   "id": "05414129",
   "metadata": {},
   "outputs": [],
   "source": [
    "fi_df1 = pd.DataFrame({'feature_name': xx.columns,\n",
    "                      'drop_09999999': fi})"
   ]
  },
  {
   "cell_type": "code",
   "execution_count": 23,
   "id": "663fa80e",
   "metadata": {},
   "outputs": [],
   "source": [
    "fi_df2 = pd.DataFrame({'feature_name': xx.columns,\n",
    "                      'drop_03': fi})"
   ]
  },
  {
   "cell_type": "code",
   "execution_count": 24,
   "id": "f1ea9cdb",
   "metadata": {},
   "outputs": [],
   "source": [
    "df_concat = pd.concat([fi_df1.set_index('feature_name'), fi_df2.set_index('feature_name')], axis=1, join='outer')"
   ]
  },
  {
   "cell_type": "code",
   "execution_count": 25,
   "id": "32e3d3cf",
   "metadata": {},
   "outputs": [
    {
     "data": {
      "text/plain": [
       "(['Var6',\n",
       "  'Var7',\n",
       "  'Var13',\n",
       "  'Var21',\n",
       "  'Var22',\n",
       "  'Var24',\n",
       "  'Var25',\n",
       "  'Var28',\n",
       "  'Var38',\n",
       "  'Var57',\n",
       "  'Var65',\n",
       "  'Var72',\n",
       "  'Var73',\n",
       "  'Var74',\n",
       "  'Var76',\n",
       "  'Var81',\n",
       "  'Var83',\n",
       "  'Var85',\n",
       "  'Var89',\n",
       "  'Var94',\n",
       "  'Var103',\n",
       "  'Var109',\n",
       "  'Var112',\n",
       "  'Var113',\n",
       "  'Var119',\n",
       "  'Var123',\n",
       "  'Var125',\n",
       "  'Var126',\n",
       "  'Var132',\n",
       "  'Var133',\n",
       "  'Var134',\n",
       "  'Var135',\n",
       "  'Var140',\n",
       "  'Var144',\n",
       "  'Var149',\n",
       "  'Var153',\n",
       "  'Var160',\n",
       "  'Var163',\n",
       "  'Var166',\n",
       "  'Var173',\n",
       "  'Var181',\n",
       "  'Var189',\n",
       "  'Var191',\n",
       "  'Var192',\n",
       "  'Var193',\n",
       "  'Var194',\n",
       "  'Var195',\n",
       "  'Var197',\n",
       "  'Var198',\n",
       "  'Var199',\n",
       "  'Var200',\n",
       "  'Var202',\n",
       "  'Var204',\n",
       "  'Var205',\n",
       "  'Var206',\n",
       "  'Var210',\n",
       "  'Var211',\n",
       "  'Var212',\n",
       "  'Var216',\n",
       "  'Var217',\n",
       "  'Var218',\n",
       "  'Var219',\n",
       "  'Var223',\n",
       "  'Var225',\n",
       "  'Var226',\n",
       "  'Var228',\n",
       "  'Var229'],\n",
       " 67)"
      ]
     },
     "execution_count": 25,
     "metadata": {},
     "output_type": "execute_result"
    }
   ],
   "source": [
    "features = fi_df2.feature_name[fi_df2['drop_03'] > 0].tolist()\n",
    "features, len(features)"
   ]
  },
  {
   "cell_type": "markdown",
   "id": "2dba90d2",
   "metadata": {},
   "source": [
    "Проаналізувавши отримані дані, отримали цікаві результати: виявляється, що ознака `Var200` із дуже високом відсотком пропусків (більше 50%) є дуже важливою.\n",
    "Саме через це в нашому класі `DropColumns` з\"явився `white_list`."
   ]
  },
  {
   "cell_type": "markdown",
   "id": "5ab2a5d0",
   "metadata": {},
   "source": [
    "### 4. Побудова пайплайну."
   ]
  },
  {
   "cell_type": "markdown",
   "id": "b50707a3",
   "metadata": {},
   "source": [
    "На даному етапі у нас все готово для формування пайплайну і підбору гіперпараметрів."
   ]
  },
  {
   "cell_type": "code",
   "execution_count": 26,
   "id": "e41de9ae",
   "metadata": {},
   "outputs": [],
   "source": [
    "nan_transformer = make_column_transformer(\n",
    "        (make_pipeline(\n",
    "                    SimpleImputer(strategy='constant', fill_value='__unknown_val__'),\n",
    "                    TargetEncoder(random_state=42),\n",
    "                ),\n",
    "            make_column_selector(dtype_include=object)),\n",
    "        (make_pipeline(\n",
    "                    SimpleImputer(strategy='mean'),\n",
    "                    StandardScaler(),\n",
    "                ),\n",
    "            make_column_selector(dtype_include=np.number)),\n",
    "    )\n",
    "\n",
    "pipeline = make_pipeline(\n",
    "            DropColumns(),\n",
    "            nan_transformer,\n",
    "            SMOTE(random_state=42),\n",
    "            xgb.XGBClassifier(enable_categorical=True, eval_metric='logloss'),\n",
    "            verbose=True\n",
    "        )\n",
    "\n",
    "def model_fit_predict_score(model, X_train, X_test, y_train, y_test):\n",
    "    model.fit(X_train, y_train)\n",
    "    y_pred = model.predict(X_test)\n",
    "    return balanced_accuracy_score(y_test, y_pred)"
   ]
  },
  {
   "cell_type": "markdown",
   "id": "a965ad57",
   "metadata": {},
   "source": [
    "Випробуємо нашу побудовану пайпланй-модель в базовій конфігурації."
   ]
  },
  {
   "cell_type": "code",
   "execution_count": 27,
   "id": "729bf04c",
   "metadata": {
    "lines_to_next_cell": 2
   },
   "outputs": [
    {
     "name": "stdout",
     "output_type": "stream",
     "text": [
      "[Pipeline] ....... (step 1 of 4) Processing dropcolumns, total=   0.1s\n",
      "[Pipeline] . (step 2 of 4) Processing columntransformer, total=   0.4s\n",
      "[Pipeline] ............. (step 3 of 4) Processing smote, total=   0.1s\n",
      "[Pipeline] ..... (step 4 of 4) Processing xgbclassifier, total=   1.8s\n",
      "0.8965208140428298\n"
     ]
    }
   ],
   "source": [
    "xy = load_train()\n",
    "y = xy.y\n",
    "x = xy.drop('y', axis=1)\n",
    "\n",
    "X_train, X_test, y_train, y_test = train_test_split(x,y,\n",
    "                                                    test_size=0.2,\n",
    "                                                    random_state=42)\n",
    "\n",
    "print(model_fit_predict_score(pipeline, X_train, X_test, y_train, y_test))"
   ]
  },
  {
   "cell_type": "markdown",
   "id": "d6401f71",
   "metadata": {},
   "source": [
    "Сформуємо список гіперпараметрів та їх діапазони, які ми хочемо \"дотюнити\"."
   ]
  },
  {
   "cell_type": "code",
   "execution_count": 28,
   "id": "790e9056",
   "metadata": {},
   "outputs": [
    {
     "data": {
      "text/plain": [
       "dict_keys(['memory', 'steps', 'verbose', 'dropcolumns', 'columntransformer', 'smote', 'xgbclassifier', 'dropcolumns__columns_to_drop', 'dropcolumns__threshold', 'columntransformer__force_int_remainder_cols', 'columntransformer__n_jobs', 'columntransformer__remainder', 'columntransformer__sparse_threshold', 'columntransformer__transformer_weights', 'columntransformer__transformers', 'columntransformer__verbose', 'columntransformer__verbose_feature_names_out', 'columntransformer__pipeline-1', 'columntransformer__pipeline-2', 'columntransformer__pipeline-1__memory', 'columntransformer__pipeline-1__steps', 'columntransformer__pipeline-1__verbose', 'columntransformer__pipeline-1__simpleimputer', 'columntransformer__pipeline-1__targetencoder', 'columntransformer__pipeline-1__simpleimputer__add_indicator', 'columntransformer__pipeline-1__simpleimputer__copy', 'columntransformer__pipeline-1__simpleimputer__fill_value', 'columntransformer__pipeline-1__simpleimputer__keep_empty_features', 'columntransformer__pipeline-1__simpleimputer__missing_values', 'columntransformer__pipeline-1__simpleimputer__strategy', 'columntransformer__pipeline-1__targetencoder__categories', 'columntransformer__pipeline-1__targetencoder__cv', 'columntransformer__pipeline-1__targetencoder__random_state', 'columntransformer__pipeline-1__targetencoder__shuffle', 'columntransformer__pipeline-1__targetencoder__smooth', 'columntransformer__pipeline-1__targetencoder__target_type', 'columntransformer__pipeline-2__memory', 'columntransformer__pipeline-2__steps', 'columntransformer__pipeline-2__verbose', 'columntransformer__pipeline-2__simpleimputer', 'columntransformer__pipeline-2__standardscaler', 'columntransformer__pipeline-2__simpleimputer__add_indicator', 'columntransformer__pipeline-2__simpleimputer__copy', 'columntransformer__pipeline-2__simpleimputer__fill_value', 'columntransformer__pipeline-2__simpleimputer__keep_empty_features', 'columntransformer__pipeline-2__simpleimputer__missing_values', 'columntransformer__pipeline-2__simpleimputer__strategy', 'columntransformer__pipeline-2__standardscaler__copy', 'columntransformer__pipeline-2__standardscaler__with_mean', 'columntransformer__pipeline-2__standardscaler__with_std', 'smote__k_neighbors', 'smote__n_jobs', 'smote__random_state', 'smote__sampling_strategy', 'xgbclassifier__objective', 'xgbclassifier__base_score', 'xgbclassifier__booster', 'xgbclassifier__callbacks', 'xgbclassifier__colsample_bylevel', 'xgbclassifier__colsample_bynode', 'xgbclassifier__colsample_bytree', 'xgbclassifier__device', 'xgbclassifier__early_stopping_rounds', 'xgbclassifier__enable_categorical', 'xgbclassifier__eval_metric', 'xgbclassifier__feature_types', 'xgbclassifier__gamma', 'xgbclassifier__grow_policy', 'xgbclassifier__importance_type', 'xgbclassifier__interaction_constraints', 'xgbclassifier__learning_rate', 'xgbclassifier__max_bin', 'xgbclassifier__max_cat_threshold', 'xgbclassifier__max_cat_to_onehot', 'xgbclassifier__max_delta_step', 'xgbclassifier__max_depth', 'xgbclassifier__max_leaves', 'xgbclassifier__min_child_weight', 'xgbclassifier__missing', 'xgbclassifier__monotone_constraints', 'xgbclassifier__multi_strategy', 'xgbclassifier__n_estimators', 'xgbclassifier__n_jobs', 'xgbclassifier__num_parallel_tree', 'xgbclassifier__random_state', 'xgbclassifier__reg_alpha', 'xgbclassifier__reg_lambda', 'xgbclassifier__sampling_method', 'xgbclassifier__scale_pos_weight', 'xgbclassifier__subsample', 'xgbclassifier__tree_method', 'xgbclassifier__validate_parameters', 'xgbclassifier__verbosity'])"
      ]
     },
     "execution_count": 28,
     "metadata": {},
     "output_type": "execute_result"
    }
   ],
   "source": [
    "pipeline.get_params().keys()"
   ]
  },
  {
   "cell_type": "code",
   "execution_count": 29,
   "id": "aed9bf09",
   "metadata": {
    "lines_to_next_cell": 2
   },
   "outputs": [],
   "source": [
    "# params = {\n",
    "#     'dropcolumns__threshold': [0.2, 0.3, 0.5, 0.6],\n",
    "#     'smote__k_neighbors': [5,6,7,8,9],\n",
    "#     'xgbclassifier__learning_rate': [0.1, 0.2, 0,3, 0.4],\n",
    "#     'xgbclassifier__max_depth': [2,3,4,5,6,7],\n",
    "#     'xgbclassifier__n_estimators': [50, 100, 150],\n",
    "# }\n",
    "#\n",
    "# rs = RandomizedSearchCV(\n",
    "# rs = GridSearchCV(\n",
    "#             pipeline,\n",
    "#             params,\n",
    "#             scoring='balanced_accuracy',\n",
    "#             n_jobs=-1,\n",
    "#             refit=False,\n",
    "#             random_state=42,\n",
    "#             verbose=1\n",
    "#         )\n",
    "\n",
    "# search = rs.fit(x, y)\n",
    "# search.best_params_"
   ]
  },
  {
   "cell_type": "markdown",
   "id": "330113d3",
   "metadata": {},
   "source": [
    "Задопомогою методів `RandomizedSearchCV` та `GridSearchCV` та мануальних маніпуляцій з діапазонами, було визначено набір гіперпараметрів."
   ]
  },
  {
   "cell_type": "code",
   "execution_count": 30,
   "id": "b4b5bbd6",
   "metadata": {},
   "outputs": [],
   "source": [
    "params = {\n",
    "    'dropcolumns__threshold': 0.3,\n",
    "    'smote__k_neighbors': 7,\n",
    "    'xgbclassifier__learning_rate': 0.1,\n",
    "    'xgbclassifier__max_depth': 3,\n",
    "    'xgbclassifier__n_estimators': 100\n",
    "}"
   ]
  },
  {
   "cell_type": "code",
   "execution_count": 31,
   "id": "0cbb42d1",
   "metadata": {},
   "outputs": [
    {
     "data": {
      "text/html": [
       "<style>#sk-container-id-1 {\n",
       "  /* Definition of color scheme common for light and dark mode */\n",
       "  --sklearn-color-text: black;\n",
       "  --sklearn-color-line: gray;\n",
       "  /* Definition of color scheme for unfitted estimators */\n",
       "  --sklearn-color-unfitted-level-0: #fff5e6;\n",
       "  --sklearn-color-unfitted-level-1: #f6e4d2;\n",
       "  --sklearn-color-unfitted-level-2: #ffe0b3;\n",
       "  --sklearn-color-unfitted-level-3: chocolate;\n",
       "  /* Definition of color scheme for fitted estimators */\n",
       "  --sklearn-color-fitted-level-0: #f0f8ff;\n",
       "  --sklearn-color-fitted-level-1: #d4ebff;\n",
       "  --sklearn-color-fitted-level-2: #b3dbfd;\n",
       "  --sklearn-color-fitted-level-3: cornflowerblue;\n",
       "\n",
       "  /* Specific color for light theme */\n",
       "  --sklearn-color-text-on-default-background: var(--sg-text-color, var(--theme-code-foreground, var(--jp-content-font-color1, black)));\n",
       "  --sklearn-color-background: var(--sg-background-color, var(--theme-background, var(--jp-layout-color0, white)));\n",
       "  --sklearn-color-border-box: var(--sg-text-color, var(--theme-code-foreground, var(--jp-content-font-color1, black)));\n",
       "  --sklearn-color-icon: #696969;\n",
       "\n",
       "  @media (prefers-color-scheme: dark) {\n",
       "    /* Redefinition of color scheme for dark theme */\n",
       "    --sklearn-color-text-on-default-background: var(--sg-text-color, var(--theme-code-foreground, var(--jp-content-font-color1, white)));\n",
       "    --sklearn-color-background: var(--sg-background-color, var(--theme-background, var(--jp-layout-color0, #111)));\n",
       "    --sklearn-color-border-box: var(--sg-text-color, var(--theme-code-foreground, var(--jp-content-font-color1, white)));\n",
       "    --sklearn-color-icon: #878787;\n",
       "  }\n",
       "}\n",
       "\n",
       "#sk-container-id-1 {\n",
       "  color: var(--sklearn-color-text);\n",
       "}\n",
       "\n",
       "#sk-container-id-1 pre {\n",
       "  padding: 0;\n",
       "}\n",
       "\n",
       "#sk-container-id-1 input.sk-hidden--visually {\n",
       "  border: 0;\n",
       "  clip: rect(1px 1px 1px 1px);\n",
       "  clip: rect(1px, 1px, 1px, 1px);\n",
       "  height: 1px;\n",
       "  margin: -1px;\n",
       "  overflow: hidden;\n",
       "  padding: 0;\n",
       "  position: absolute;\n",
       "  width: 1px;\n",
       "}\n",
       "\n",
       "#sk-container-id-1 div.sk-dashed-wrapped {\n",
       "  border: 1px dashed var(--sklearn-color-line);\n",
       "  margin: 0 0.4em 0.5em 0.4em;\n",
       "  box-sizing: border-box;\n",
       "  padding-bottom: 0.4em;\n",
       "  background-color: var(--sklearn-color-background);\n",
       "}\n",
       "\n",
       "#sk-container-id-1 div.sk-container {\n",
       "  /* jupyter's `normalize.less` sets `[hidden] { display: none; }`\n",
       "     but bootstrap.min.css set `[hidden] { display: none !important; }`\n",
       "     so we also need the `!important` here to be able to override the\n",
       "     default hidden behavior on the sphinx rendered scikit-learn.org.\n",
       "     See: https://github.com/scikit-learn/scikit-learn/issues/21755 */\n",
       "  display: inline-block !important;\n",
       "  position: relative;\n",
       "}\n",
       "\n",
       "#sk-container-id-1 div.sk-text-repr-fallback {\n",
       "  display: none;\n",
       "}\n",
       "\n",
       "div.sk-parallel-item,\n",
       "div.sk-serial,\n",
       "div.sk-item {\n",
       "  /* draw centered vertical line to link estimators */\n",
       "  background-image: linear-gradient(var(--sklearn-color-text-on-default-background), var(--sklearn-color-text-on-default-background));\n",
       "  background-size: 2px 100%;\n",
       "  background-repeat: no-repeat;\n",
       "  background-position: center center;\n",
       "}\n",
       "\n",
       "/* Parallel-specific style estimator block */\n",
       "\n",
       "#sk-container-id-1 div.sk-parallel-item::after {\n",
       "  content: \"\";\n",
       "  width: 100%;\n",
       "  border-bottom: 2px solid var(--sklearn-color-text-on-default-background);\n",
       "  flex-grow: 1;\n",
       "}\n",
       "\n",
       "#sk-container-id-1 div.sk-parallel {\n",
       "  display: flex;\n",
       "  align-items: stretch;\n",
       "  justify-content: center;\n",
       "  background-color: var(--sklearn-color-background);\n",
       "  position: relative;\n",
       "}\n",
       "\n",
       "#sk-container-id-1 div.sk-parallel-item {\n",
       "  display: flex;\n",
       "  flex-direction: column;\n",
       "}\n",
       "\n",
       "#sk-container-id-1 div.sk-parallel-item:first-child::after {\n",
       "  align-self: flex-end;\n",
       "  width: 50%;\n",
       "}\n",
       "\n",
       "#sk-container-id-1 div.sk-parallel-item:last-child::after {\n",
       "  align-self: flex-start;\n",
       "  width: 50%;\n",
       "}\n",
       "\n",
       "#sk-container-id-1 div.sk-parallel-item:only-child::after {\n",
       "  width: 0;\n",
       "}\n",
       "\n",
       "/* Serial-specific style estimator block */\n",
       "\n",
       "#sk-container-id-1 div.sk-serial {\n",
       "  display: flex;\n",
       "  flex-direction: column;\n",
       "  align-items: center;\n",
       "  background-color: var(--sklearn-color-background);\n",
       "  padding-right: 1em;\n",
       "  padding-left: 1em;\n",
       "}\n",
       "\n",
       "\n",
       "/* Toggleable style: style used for estimator/Pipeline/ColumnTransformer box that is\n",
       "clickable and can be expanded/collapsed.\n",
       "- Pipeline and ColumnTransformer use this feature and define the default style\n",
       "- Estimators will overwrite some part of the style using the `sk-estimator` class\n",
       "*/\n",
       "\n",
       "/* Pipeline and ColumnTransformer style (default) */\n",
       "\n",
       "#sk-container-id-1 div.sk-toggleable {\n",
       "  /* Default theme specific background. It is overwritten whether we have a\n",
       "  specific estimator or a Pipeline/ColumnTransformer */\n",
       "  background-color: var(--sklearn-color-background);\n",
       "}\n",
       "\n",
       "/* Toggleable label */\n",
       "#sk-container-id-1 label.sk-toggleable__label {\n",
       "  cursor: pointer;\n",
       "  display: block;\n",
       "  width: 100%;\n",
       "  margin-bottom: 0;\n",
       "  padding: 0.5em;\n",
       "  box-sizing: border-box;\n",
       "  text-align: center;\n",
       "}\n",
       "\n",
       "#sk-container-id-1 label.sk-toggleable__label-arrow:before {\n",
       "  /* Arrow on the left of the label */\n",
       "  content: \"▸\";\n",
       "  float: left;\n",
       "  margin-right: 0.25em;\n",
       "  color: var(--sklearn-color-icon);\n",
       "}\n",
       "\n",
       "#sk-container-id-1 label.sk-toggleable__label-arrow:hover:before {\n",
       "  color: var(--sklearn-color-text);\n",
       "}\n",
       "\n",
       "/* Toggleable content - dropdown */\n",
       "\n",
       "#sk-container-id-1 div.sk-toggleable__content {\n",
       "  max-height: 0;\n",
       "  max-width: 0;\n",
       "  overflow: hidden;\n",
       "  text-align: left;\n",
       "  /* unfitted */\n",
       "  background-color: var(--sklearn-color-unfitted-level-0);\n",
       "}\n",
       "\n",
       "#sk-container-id-1 div.sk-toggleable__content.fitted {\n",
       "  /* fitted */\n",
       "  background-color: var(--sklearn-color-fitted-level-0);\n",
       "}\n",
       "\n",
       "#sk-container-id-1 div.sk-toggleable__content pre {\n",
       "  margin: 0.2em;\n",
       "  border-radius: 0.25em;\n",
       "  color: var(--sklearn-color-text);\n",
       "  /* unfitted */\n",
       "  background-color: var(--sklearn-color-unfitted-level-0);\n",
       "}\n",
       "\n",
       "#sk-container-id-1 div.sk-toggleable__content.fitted pre {\n",
       "  /* unfitted */\n",
       "  background-color: var(--sklearn-color-fitted-level-0);\n",
       "}\n",
       "\n",
       "#sk-container-id-1 input.sk-toggleable__control:checked~div.sk-toggleable__content {\n",
       "  /* Expand drop-down */\n",
       "  max-height: 200px;\n",
       "  max-width: 100%;\n",
       "  overflow: auto;\n",
       "}\n",
       "\n",
       "#sk-container-id-1 input.sk-toggleable__control:checked~label.sk-toggleable__label-arrow:before {\n",
       "  content: \"▾\";\n",
       "}\n",
       "\n",
       "/* Pipeline/ColumnTransformer-specific style */\n",
       "\n",
       "#sk-container-id-1 div.sk-label input.sk-toggleable__control:checked~label.sk-toggleable__label {\n",
       "  color: var(--sklearn-color-text);\n",
       "  background-color: var(--sklearn-color-unfitted-level-2);\n",
       "}\n",
       "\n",
       "#sk-container-id-1 div.sk-label.fitted input.sk-toggleable__control:checked~label.sk-toggleable__label {\n",
       "  background-color: var(--sklearn-color-fitted-level-2);\n",
       "}\n",
       "\n",
       "/* Estimator-specific style */\n",
       "\n",
       "/* Colorize estimator box */\n",
       "#sk-container-id-1 div.sk-estimator input.sk-toggleable__control:checked~label.sk-toggleable__label {\n",
       "  /* unfitted */\n",
       "  background-color: var(--sklearn-color-unfitted-level-2);\n",
       "}\n",
       "\n",
       "#sk-container-id-1 div.sk-estimator.fitted input.sk-toggleable__control:checked~label.sk-toggleable__label {\n",
       "  /* fitted */\n",
       "  background-color: var(--sklearn-color-fitted-level-2);\n",
       "}\n",
       "\n",
       "#sk-container-id-1 div.sk-label label.sk-toggleable__label,\n",
       "#sk-container-id-1 div.sk-label label {\n",
       "  /* The background is the default theme color */\n",
       "  color: var(--sklearn-color-text-on-default-background);\n",
       "}\n",
       "\n",
       "/* On hover, darken the color of the background */\n",
       "#sk-container-id-1 div.sk-label:hover label.sk-toggleable__label {\n",
       "  color: var(--sklearn-color-text);\n",
       "  background-color: var(--sklearn-color-unfitted-level-2);\n",
       "}\n",
       "\n",
       "/* Label box, darken color on hover, fitted */\n",
       "#sk-container-id-1 div.sk-label.fitted:hover label.sk-toggleable__label.fitted {\n",
       "  color: var(--sklearn-color-text);\n",
       "  background-color: var(--sklearn-color-fitted-level-2);\n",
       "}\n",
       "\n",
       "/* Estimator label */\n",
       "\n",
       "#sk-container-id-1 div.sk-label label {\n",
       "  font-family: monospace;\n",
       "  font-weight: bold;\n",
       "  display: inline-block;\n",
       "  line-height: 1.2em;\n",
       "}\n",
       "\n",
       "#sk-container-id-1 div.sk-label-container {\n",
       "  text-align: center;\n",
       "}\n",
       "\n",
       "/* Estimator-specific */\n",
       "#sk-container-id-1 div.sk-estimator {\n",
       "  font-family: monospace;\n",
       "  border: 1px dotted var(--sklearn-color-border-box);\n",
       "  border-radius: 0.25em;\n",
       "  box-sizing: border-box;\n",
       "  margin-bottom: 0.5em;\n",
       "  /* unfitted */\n",
       "  background-color: var(--sklearn-color-unfitted-level-0);\n",
       "}\n",
       "\n",
       "#sk-container-id-1 div.sk-estimator.fitted {\n",
       "  /* fitted */\n",
       "  background-color: var(--sklearn-color-fitted-level-0);\n",
       "}\n",
       "\n",
       "/* on hover */\n",
       "#sk-container-id-1 div.sk-estimator:hover {\n",
       "  /* unfitted */\n",
       "  background-color: var(--sklearn-color-unfitted-level-2);\n",
       "}\n",
       "\n",
       "#sk-container-id-1 div.sk-estimator.fitted:hover {\n",
       "  /* fitted */\n",
       "  background-color: var(--sklearn-color-fitted-level-2);\n",
       "}\n",
       "\n",
       "/* Specification for estimator info (e.g. \"i\" and \"?\") */\n",
       "\n",
       "/* Common style for \"i\" and \"?\" */\n",
       "\n",
       ".sk-estimator-doc-link,\n",
       "a:link.sk-estimator-doc-link,\n",
       "a:visited.sk-estimator-doc-link {\n",
       "  float: right;\n",
       "  font-size: smaller;\n",
       "  line-height: 1em;\n",
       "  font-family: monospace;\n",
       "  background-color: var(--sklearn-color-background);\n",
       "  border-radius: 1em;\n",
       "  height: 1em;\n",
       "  width: 1em;\n",
       "  text-decoration: none !important;\n",
       "  margin-left: 1ex;\n",
       "  /* unfitted */\n",
       "  border: var(--sklearn-color-unfitted-level-1) 1pt solid;\n",
       "  color: var(--sklearn-color-unfitted-level-1);\n",
       "}\n",
       "\n",
       ".sk-estimator-doc-link.fitted,\n",
       "a:link.sk-estimator-doc-link.fitted,\n",
       "a:visited.sk-estimator-doc-link.fitted {\n",
       "  /* fitted */\n",
       "  border: var(--sklearn-color-fitted-level-1) 1pt solid;\n",
       "  color: var(--sklearn-color-fitted-level-1);\n",
       "}\n",
       "\n",
       "/* On hover */\n",
       "div.sk-estimator:hover .sk-estimator-doc-link:hover,\n",
       ".sk-estimator-doc-link:hover,\n",
       "div.sk-label-container:hover .sk-estimator-doc-link:hover,\n",
       ".sk-estimator-doc-link:hover {\n",
       "  /* unfitted */\n",
       "  background-color: var(--sklearn-color-unfitted-level-3);\n",
       "  color: var(--sklearn-color-background);\n",
       "  text-decoration: none;\n",
       "}\n",
       "\n",
       "div.sk-estimator.fitted:hover .sk-estimator-doc-link.fitted:hover,\n",
       ".sk-estimator-doc-link.fitted:hover,\n",
       "div.sk-label-container:hover .sk-estimator-doc-link.fitted:hover,\n",
       ".sk-estimator-doc-link.fitted:hover {\n",
       "  /* fitted */\n",
       "  background-color: var(--sklearn-color-fitted-level-3);\n",
       "  color: var(--sklearn-color-background);\n",
       "  text-decoration: none;\n",
       "}\n",
       "\n",
       "/* Span, style for the box shown on hovering the info icon */\n",
       ".sk-estimator-doc-link span {\n",
       "  display: none;\n",
       "  z-index: 9999;\n",
       "  position: relative;\n",
       "  font-weight: normal;\n",
       "  right: .2ex;\n",
       "  padding: .5ex;\n",
       "  margin: .5ex;\n",
       "  width: min-content;\n",
       "  min-width: 20ex;\n",
       "  max-width: 50ex;\n",
       "  color: var(--sklearn-color-text);\n",
       "  box-shadow: 2pt 2pt 4pt #999;\n",
       "  /* unfitted */\n",
       "  background: var(--sklearn-color-unfitted-level-0);\n",
       "  border: .5pt solid var(--sklearn-color-unfitted-level-3);\n",
       "}\n",
       "\n",
       ".sk-estimator-doc-link.fitted span {\n",
       "  /* fitted */\n",
       "  background: var(--sklearn-color-fitted-level-0);\n",
       "  border: var(--sklearn-color-fitted-level-3);\n",
       "}\n",
       "\n",
       ".sk-estimator-doc-link:hover span {\n",
       "  display: block;\n",
       "}\n",
       "\n",
       "/* \"?\"-specific style due to the `<a>` HTML tag */\n",
       "\n",
       "#sk-container-id-1 a.estimator_doc_link {\n",
       "  float: right;\n",
       "  font-size: 1rem;\n",
       "  line-height: 1em;\n",
       "  font-family: monospace;\n",
       "  background-color: var(--sklearn-color-background);\n",
       "  border-radius: 1rem;\n",
       "  height: 1rem;\n",
       "  width: 1rem;\n",
       "  text-decoration: none;\n",
       "  /* unfitted */\n",
       "  color: var(--sklearn-color-unfitted-level-1);\n",
       "  border: var(--sklearn-color-unfitted-level-1) 1pt solid;\n",
       "}\n",
       "\n",
       "#sk-container-id-1 a.estimator_doc_link.fitted {\n",
       "  /* fitted */\n",
       "  border: var(--sklearn-color-fitted-level-1) 1pt solid;\n",
       "  color: var(--sklearn-color-fitted-level-1);\n",
       "}\n",
       "\n",
       "/* On hover */\n",
       "#sk-container-id-1 a.estimator_doc_link:hover {\n",
       "  /* unfitted */\n",
       "  background-color: var(--sklearn-color-unfitted-level-3);\n",
       "  color: var(--sklearn-color-background);\n",
       "  text-decoration: none;\n",
       "}\n",
       "\n",
       "#sk-container-id-1 a.estimator_doc_link.fitted:hover {\n",
       "  /* fitted */\n",
       "  background-color: var(--sklearn-color-fitted-level-3);\n",
       "}\n",
       "</style><div id=\"sk-container-id-1\" class=\"sk-top-container\"><div class=\"sk-text-repr-fallback\"><pre>Pipeline(steps=[(&#x27;dropcolumns&#x27;,\n",
       "                 DropColumns(columns_to_drop=[&#x27;Var18&#x27;, &#x27;Var33&#x27;, &#x27;Var56&#x27;,\n",
       "                                              &#x27;Var138&#x27;, &#x27;Var150&#x27;, &#x27;Var45&#x27;,\n",
       "                                              &#x27;Var39&#x27;, &#x27;Var179&#x27;, &#x27;Var194&#x27;,\n",
       "                                              &#x27;Var94&#x27;, &#x27;Var147&#x27;, &#x27;Var82&#x27;,\n",
       "                                              &#x27;Var34&#x27;, &#x27;Var86&#x27;, &#x27;Var159&#x27;,\n",
       "                                              &#x27;Var51&#x27;, &#x27;Var167&#x27;, &#x27;Var189&#x27;,\n",
       "                                              &#x27;Var184&#x27;, &#x27;Var52&#x27;, &#x27;Var155&#x27;,\n",
       "                                              &#x27;Var118&#x27;, &#x27;Var182&#x27;, &#x27;Var32&#x27;,\n",
       "                                              &#x27;Var43&#x27;, &#x27;Var67&#x27;, &#x27;Var139&#x27;,\n",
       "                                              &#x27;Var166&#x27;, &#x27;Var157&#x27;, &#x27;Var213&#x27;, ...])),\n",
       "                (&#x27;columntransformer&#x27;,\n",
       "                 Column...\n",
       "                               feature_types=None, gamma=None, grow_policy=None,\n",
       "                               importance_type=None,\n",
       "                               interaction_constraints=None, learning_rate=0.1,\n",
       "                               max_bin=None, max_cat_threshold=None,\n",
       "                               max_cat_to_onehot=None, max_delta_step=None,\n",
       "                               max_depth=3, max_leaves=None,\n",
       "                               min_child_weight=None, missing=nan,\n",
       "                               monotone_constraints=None, multi_strategy=None,\n",
       "                               n_estimators=100, n_jobs=None,\n",
       "                               num_parallel_tree=None, random_state=None, ...))],\n",
       "         verbose=True)</pre><b>In a Jupyter environment, please rerun this cell to show the HTML representation or trust the notebook. <br />On GitHub, the HTML representation is unable to render, please try loading this page with nbviewer.org.</b></div><div class=\"sk-container\" hidden><div class=\"sk-item sk-dashed-wrapped\"><div class=\"sk-label-container\"><div class=\"sk-label fitted sk-toggleable\"><input class=\"sk-toggleable__control sk-hidden--visually\" id=\"sk-estimator-id-1\" type=\"checkbox\" ><label for=\"sk-estimator-id-1\" class=\"sk-toggleable__label fitted sk-toggleable__label-arrow fitted\">&nbsp;Pipeline<span class=\"sk-estimator-doc-link fitted\">i<span>Fitted</span></span></label><div class=\"sk-toggleable__content fitted\"><pre>Pipeline(steps=[(&#x27;dropcolumns&#x27;,\n",
       "                 DropColumns(columns_to_drop=[&#x27;Var18&#x27;, &#x27;Var33&#x27;, &#x27;Var56&#x27;,\n",
       "                                              &#x27;Var138&#x27;, &#x27;Var150&#x27;, &#x27;Var45&#x27;,\n",
       "                                              &#x27;Var39&#x27;, &#x27;Var179&#x27;, &#x27;Var194&#x27;,\n",
       "                                              &#x27;Var94&#x27;, &#x27;Var147&#x27;, &#x27;Var82&#x27;,\n",
       "                                              &#x27;Var34&#x27;, &#x27;Var86&#x27;, &#x27;Var159&#x27;,\n",
       "                                              &#x27;Var51&#x27;, &#x27;Var167&#x27;, &#x27;Var189&#x27;,\n",
       "                                              &#x27;Var184&#x27;, &#x27;Var52&#x27;, &#x27;Var155&#x27;,\n",
       "                                              &#x27;Var118&#x27;, &#x27;Var182&#x27;, &#x27;Var32&#x27;,\n",
       "                                              &#x27;Var43&#x27;, &#x27;Var67&#x27;, &#x27;Var139&#x27;,\n",
       "                                              &#x27;Var166&#x27;, &#x27;Var157&#x27;, &#x27;Var213&#x27;, ...])),\n",
       "                (&#x27;columntransformer&#x27;,\n",
       "                 Column...\n",
       "                               feature_types=None, gamma=None, grow_policy=None,\n",
       "                               importance_type=None,\n",
       "                               interaction_constraints=None, learning_rate=0.1,\n",
       "                               max_bin=None, max_cat_threshold=None,\n",
       "                               max_cat_to_onehot=None, max_delta_step=None,\n",
       "                               max_depth=3, max_leaves=None,\n",
       "                               min_child_weight=None, missing=nan,\n",
       "                               monotone_constraints=None, multi_strategy=None,\n",
       "                               n_estimators=100, n_jobs=None,\n",
       "                               num_parallel_tree=None, random_state=None, ...))],\n",
       "         verbose=True)</pre></div> </div></div><div class=\"sk-serial\"><div class=\"sk-item\"><div class=\"sk-estimator fitted sk-toggleable\"><input class=\"sk-toggleable__control sk-hidden--visually\" id=\"sk-estimator-id-2\" type=\"checkbox\" ><label for=\"sk-estimator-id-2\" class=\"sk-toggleable__label fitted sk-toggleable__label-arrow fitted\">DropColumns</label><div class=\"sk-toggleable__content fitted\"><pre>DropColumns(columns_to_drop=[&#x27;Var18&#x27;, &#x27;Var33&#x27;, &#x27;Var56&#x27;, &#x27;Var138&#x27;, &#x27;Var150&#x27;,\n",
       "                             &#x27;Var45&#x27;, &#x27;Var39&#x27;, &#x27;Var179&#x27;, &#x27;Var194&#x27;, &#x27;Var94&#x27;,\n",
       "                             &#x27;Var147&#x27;, &#x27;Var82&#x27;, &#x27;Var34&#x27;, &#x27;Var86&#x27;, &#x27;Var159&#x27;,\n",
       "                             &#x27;Var51&#x27;, &#x27;Var167&#x27;, &#x27;Var189&#x27;, &#x27;Var184&#x27;, &#x27;Var52&#x27;,\n",
       "                             &#x27;Var155&#x27;, &#x27;Var118&#x27;, &#x27;Var182&#x27;, &#x27;Var32&#x27;, &#x27;Var43&#x27;,\n",
       "                             &#x27;Var67&#x27;, &#x27;Var139&#x27;, &#x27;Var166&#x27;, &#x27;Var157&#x27;, &#x27;Var213&#x27;, ...])</pre></div> </div></div><div class=\"sk-item sk-dashed-wrapped\"><div class=\"sk-label-container\"><div class=\"sk-label fitted sk-toggleable\"><input class=\"sk-toggleable__control sk-hidden--visually\" id=\"sk-estimator-id-3\" type=\"checkbox\" ><label for=\"sk-estimator-id-3\" class=\"sk-toggleable__label fitted sk-toggleable__label-arrow fitted\">&nbsp;columntransformer: ColumnTransformer<a class=\"sk-estimator-doc-link fitted\" rel=\"noreferrer\" target=\"_blank\" href=\"https://scikit-learn.org/1.5/modules/generated/sklearn.compose.ColumnTransformer.html\">?<span>Documentation for columntransformer: ColumnTransformer</span></a></label><div class=\"sk-toggleable__content fitted\"><pre>ColumnTransformer(transformers=[(&#x27;pipeline-1&#x27;,\n",
       "                                 Pipeline(steps=[(&#x27;simpleimputer&#x27;,\n",
       "                                                  SimpleImputer(fill_value=&#x27;__unknown_val__&#x27;,\n",
       "                                                                strategy=&#x27;constant&#x27;)),\n",
       "                                                 (&#x27;targetencoder&#x27;,\n",
       "                                                  TargetEncoder(random_state=42))]),\n",
       "                                 &lt;sklearn.compose._column_transformer.make_column_selector object at 0x000001BE015E9100&gt;),\n",
       "                                (&#x27;pipeline-2&#x27;,\n",
       "                                 Pipeline(steps=[(&#x27;simpleimputer&#x27;,\n",
       "                                                  SimpleImputer()),\n",
       "                                                 (&#x27;standardscaler&#x27;,\n",
       "                                                  StandardScaler())]),\n",
       "                                 &lt;sklearn.compose._column_transformer.make_column_selector object at 0x000001BE018B84A0&gt;)])</pre></div> </div></div><div class=\"sk-parallel\"><div class=\"sk-parallel-item\"><div class=\"sk-item\"><div class=\"sk-label-container\"><div class=\"sk-label fitted sk-toggleable\"><input class=\"sk-toggleable__control sk-hidden--visually\" id=\"sk-estimator-id-4\" type=\"checkbox\" ><label for=\"sk-estimator-id-4\" class=\"sk-toggleable__label fitted sk-toggleable__label-arrow fitted\">pipeline-1</label><div class=\"sk-toggleable__content fitted\"><pre>&lt;sklearn.compose._column_transformer.make_column_selector object at 0x000001BE015E9100&gt;</pre></div> </div></div><div class=\"sk-serial\"><div class=\"sk-item\"><div class=\"sk-serial\"><div class=\"sk-item\"><div class=\"sk-estimator fitted sk-toggleable\"><input class=\"sk-toggleable__control sk-hidden--visually\" id=\"sk-estimator-id-5\" type=\"checkbox\" ><label for=\"sk-estimator-id-5\" class=\"sk-toggleable__label fitted sk-toggleable__label-arrow fitted\">&nbsp;SimpleImputer<a class=\"sk-estimator-doc-link fitted\" rel=\"noreferrer\" target=\"_blank\" href=\"https://scikit-learn.org/1.5/modules/generated/sklearn.impute.SimpleImputer.html\">?<span>Documentation for SimpleImputer</span></a></label><div class=\"sk-toggleable__content fitted\"><pre>SimpleImputer(fill_value=&#x27;__unknown_val__&#x27;, strategy=&#x27;constant&#x27;)</pre></div> </div></div><div class=\"sk-item\"><div class=\"sk-estimator fitted sk-toggleable\"><input class=\"sk-toggleable__control sk-hidden--visually\" id=\"sk-estimator-id-6\" type=\"checkbox\" ><label for=\"sk-estimator-id-6\" class=\"sk-toggleable__label fitted sk-toggleable__label-arrow fitted\">&nbsp;TargetEncoder<a class=\"sk-estimator-doc-link fitted\" rel=\"noreferrer\" target=\"_blank\" href=\"https://scikit-learn.org/1.5/modules/generated/sklearn.preprocessing.TargetEncoder.html\">?<span>Documentation for TargetEncoder</span></a></label><div class=\"sk-toggleable__content fitted\"><pre>TargetEncoder(random_state=42)</pre></div> </div></div></div></div></div></div></div><div class=\"sk-parallel-item\"><div class=\"sk-item\"><div class=\"sk-label-container\"><div class=\"sk-label fitted sk-toggleable\"><input class=\"sk-toggleable__control sk-hidden--visually\" id=\"sk-estimator-id-7\" type=\"checkbox\" ><label for=\"sk-estimator-id-7\" class=\"sk-toggleable__label fitted sk-toggleable__label-arrow fitted\">pipeline-2</label><div class=\"sk-toggleable__content fitted\"><pre>&lt;sklearn.compose._column_transformer.make_column_selector object at 0x000001BE018B84A0&gt;</pre></div> </div></div><div class=\"sk-serial\"><div class=\"sk-item\"><div class=\"sk-serial\"><div class=\"sk-item\"><div class=\"sk-estimator fitted sk-toggleable\"><input class=\"sk-toggleable__control sk-hidden--visually\" id=\"sk-estimator-id-8\" type=\"checkbox\" ><label for=\"sk-estimator-id-8\" class=\"sk-toggleable__label fitted sk-toggleable__label-arrow fitted\">&nbsp;SimpleImputer<a class=\"sk-estimator-doc-link fitted\" rel=\"noreferrer\" target=\"_blank\" href=\"https://scikit-learn.org/1.5/modules/generated/sklearn.impute.SimpleImputer.html\">?<span>Documentation for SimpleImputer</span></a></label><div class=\"sk-toggleable__content fitted\"><pre>SimpleImputer()</pre></div> </div></div><div class=\"sk-item\"><div class=\"sk-estimator fitted sk-toggleable\"><input class=\"sk-toggleable__control sk-hidden--visually\" id=\"sk-estimator-id-9\" type=\"checkbox\" ><label for=\"sk-estimator-id-9\" class=\"sk-toggleable__label fitted sk-toggleable__label-arrow fitted\">&nbsp;StandardScaler<a class=\"sk-estimator-doc-link fitted\" rel=\"noreferrer\" target=\"_blank\" href=\"https://scikit-learn.org/1.5/modules/generated/sklearn.preprocessing.StandardScaler.html\">?<span>Documentation for StandardScaler</span></a></label><div class=\"sk-toggleable__content fitted\"><pre>StandardScaler()</pre></div> </div></div></div></div></div></div></div></div></div><div class=\"sk-item\"><div class=\"sk-estimator fitted sk-toggleable\"><input class=\"sk-toggleable__control sk-hidden--visually\" id=\"sk-estimator-id-10\" type=\"checkbox\" ><label for=\"sk-estimator-id-10\" class=\"sk-toggleable__label fitted sk-toggleable__label-arrow fitted\">SMOTE</label><div class=\"sk-toggleable__content fitted\"><pre>SMOTE(k_neighbors=7, random_state=42)</pre></div> </div></div><div class=\"sk-item\"><div class=\"sk-estimator fitted sk-toggleable\"><input class=\"sk-toggleable__control sk-hidden--visually\" id=\"sk-estimator-id-11\" type=\"checkbox\" ><label for=\"sk-estimator-id-11\" class=\"sk-toggleable__label fitted sk-toggleable__label-arrow fitted\">XGBClassifier</label><div class=\"sk-toggleable__content fitted\"><pre>XGBClassifier(base_score=None, booster=None, callbacks=None,\n",
       "              colsample_bylevel=None, colsample_bynode=None,\n",
       "              colsample_bytree=None, device=None, early_stopping_rounds=None,\n",
       "              enable_categorical=True, eval_metric=&#x27;logloss&#x27;,\n",
       "              feature_types=None, gamma=None, grow_policy=None,\n",
       "              importance_type=None, interaction_constraints=None,\n",
       "              learning_rate=0.1, max_bin=None, max_cat_threshold=None,\n",
       "              max_cat_to_onehot=None, max_delta_step=None, max_depth=3,\n",
       "              max_leaves=None, min_child_weight=None, missing=nan,\n",
       "              monotone_constraints=None, multi_strategy=None, n_estimators=100,\n",
       "              n_jobs=None, num_parallel_tree=None, random_state=None, ...)</pre></div> </div></div></div></div></div></div>"
      ],
      "text/plain": [
       "Pipeline(steps=[('dropcolumns',\n",
       "                 DropColumns(columns_to_drop=['Var18', 'Var33', 'Var56',\n",
       "                                              'Var138', 'Var150', 'Var45',\n",
       "                                              'Var39', 'Var179', 'Var194',\n",
       "                                              'Var94', 'Var147', 'Var82',\n",
       "                                              'Var34', 'Var86', 'Var159',\n",
       "                                              'Var51', 'Var167', 'Var189',\n",
       "                                              'Var184', 'Var52', 'Var155',\n",
       "                                              'Var118', 'Var182', 'Var32',\n",
       "                                              'Var43', 'Var67', 'Var139',\n",
       "                                              'Var166', 'Var157', 'Var213', ...])),\n",
       "                ('columntransformer',\n",
       "                 Column...\n",
       "                               feature_types=None, gamma=None, grow_policy=None,\n",
       "                               importance_type=None,\n",
       "                               interaction_constraints=None, learning_rate=0.1,\n",
       "                               max_bin=None, max_cat_threshold=None,\n",
       "                               max_cat_to_onehot=None, max_delta_step=None,\n",
       "                               max_depth=3, max_leaves=None,\n",
       "                               min_child_weight=None, missing=nan,\n",
       "                               monotone_constraints=None, multi_strategy=None,\n",
       "                               n_estimators=100, n_jobs=None,\n",
       "                               num_parallel_tree=None, random_state=None, ...))],\n",
       "         verbose=True)"
      ]
     },
     "execution_count": 31,
     "metadata": {},
     "output_type": "execute_result"
    }
   ],
   "source": [
    "pipeline.set_params(**params)"
   ]
  },
  {
   "cell_type": "markdown",
   "id": "2d259462",
   "metadata": {},
   "source": [
    "Порахуємо метрику на тренувальних даних із застосуванням крос-валідації."
   ]
  },
  {
   "cell_type": "markdown",
   "id": "904a3658",
   "metadata": {},
   "source": [
    "### 5. Застосування моделі."
   ]
  },
  {
   "cell_type": "markdown",
   "id": "902e3b4c",
   "metadata": {},
   "source": [
    "Порахуємо метрику на тренувальних даних задопомогою кросвалідації."
   ]
  },
  {
   "cell_type": "code",
   "execution_count": 32,
   "id": "b4771cec",
   "metadata": {},
   "outputs": [
    {
     "name": "stdout",
     "output_type": "stream",
     "text": [
      "[Pipeline] ....... (step 1 of 4) Processing dropcolumns, total=   0.1s\n",
      "[Pipeline] . (step 2 of 4) Processing columntransformer, total=   0.4s\n",
      "[Pipeline] ............. (step 3 of 4) Processing smote, total=   0.1s\n",
      "[Pipeline] ..... (step 4 of 4) Processing xgbclassifier, total=   0.8s\n",
      "[Pipeline] ....... (step 1 of 4) Processing dropcolumns, total=   0.1s\n",
      "[Pipeline] . (step 2 of 4) Processing columntransformer, total=   0.6s\n",
      "[Pipeline] ............. (step 3 of 4) Processing smote, total=   0.1s\n",
      "[Pipeline] ..... (step 4 of 4) Processing xgbclassifier, total=   1.4s\n",
      "[Pipeline] ....... (step 1 of 4) Processing dropcolumns, total=   0.1s\n",
      "[Pipeline] . (step 2 of 4) Processing columntransformer, total=   0.7s\n",
      "[Pipeline] ............. (step 3 of 4) Processing smote, total=   0.1s\n",
      "[Pipeline] ..... (step 4 of 4) Processing xgbclassifier, total=   1.2s\n",
      "[Pipeline] ....... (step 1 of 4) Processing dropcolumns, total=   0.1s\n",
      "[Pipeline] . (step 2 of 4) Processing columntransformer, total=   0.5s\n",
      "[Pipeline] ............. (step 3 of 4) Processing smote, total=   0.1s\n",
      "[Pipeline] ..... (step 4 of 4) Processing xgbclassifier, total=   1.0s\n",
      "[Pipeline] ....... (step 1 of 4) Processing dropcolumns, total=   0.1s\n",
      "[Pipeline] . (step 2 of 4) Processing columntransformer, total=   0.5s\n",
      "[Pipeline] ............. (step 3 of 4) Processing smote, total=   0.1s\n",
      "[Pipeline] ..... (step 4 of 4) Processing xgbclassifier, total=   0.8s\n",
      "[Pipeline] ....... (step 1 of 4) Processing dropcolumns, total=   0.1s\n",
      "[Pipeline] . (step 2 of 4) Processing columntransformer, total=   0.5s\n",
      "[Pipeline] ............. (step 3 of 4) Processing smote, total=   0.1s\n",
      "[Pipeline] ..... (step 4 of 4) Processing xgbclassifier, total=   0.8s\n",
      "[Pipeline] ....... (step 1 of 4) Processing dropcolumns, total=   0.1s\n",
      "[Pipeline] . (step 2 of 4) Processing columntransformer, total=   0.5s\n",
      "[Pipeline] ............. (step 3 of 4) Processing smote, total=   0.1s\n",
      "[Pipeline] ..... (step 4 of 4) Processing xgbclassifier, total=   0.9s\n",
      "[Pipeline] ....... (step 1 of 4) Processing dropcolumns, total=   0.1s\n",
      "[Pipeline] . (step 2 of 4) Processing columntransformer, total=   0.4s\n",
      "[Pipeline] ............. (step 3 of 4) Processing smote, total=   0.1s\n",
      "[Pipeline] ..... (step 4 of 4) Processing xgbclassifier, total=   0.9s\n",
      "[Pipeline] ....... (step 1 of 4) Processing dropcolumns, total=   0.1s\n",
      "[Pipeline] . (step 2 of 4) Processing columntransformer, total=   0.4s\n",
      "[Pipeline] ............. (step 3 of 4) Processing smote, total=   0.1s\n",
      "[Pipeline] ..... (step 4 of 4) Processing xgbclassifier, total=   1.0s\n",
      "[Pipeline] ....... (step 1 of 4) Processing dropcolumns, total=   0.1s\n",
      "[Pipeline] . (step 2 of 4) Processing columntransformer, total=   0.4s\n",
      "[Pipeline] ............. (step 3 of 4) Processing smote, total=   0.1s\n",
      "[Pipeline] ..... (step 4 of 4) Processing xgbclassifier, total=   0.9s\n"
     ]
    },
    {
     "data": {
      "text/plain": [
       "(array([0.89699381, 0.89244032, 0.83284704, 0.88642794, 0.87104332,\n",
       "        0.88854874, 0.88039688, 0.87159497, 0.8650155 , 0.8813939 ]),\n",
       " 0.8766702422253017)"
      ]
     },
     "execution_count": 32,
     "metadata": {},
     "output_type": "execute_result"
    }
   ],
   "source": [
    "Xy = load_train()\n",
    "y = Xy.y\n",
    "x = Xy.drop('y', axis=1)\n",
    "\n",
    "kf = StratifiedKFold(n_splits=10, shuffle=True, random_state=42)\n",
    "\n",
    "cv_results = cross_val_score(\n",
    "                        estimator=pipeline,\n",
    "                        X=x,\n",
    "                        y=y,\n",
    "                        scoring='balanced_accuracy',\n",
    "                        cv=kf\n",
    "                    )\n",
    "\n",
    "cv_results, cv_results.mean()"
   ]
  },
  {
   "cell_type": "markdown",
   "id": "2c1ed745",
   "metadata": {},
   "source": [
    "Порахуємо передбачення для верифікаційного набору даних і запишемо у файл для відправки в Кагл."
   ]
  },
  {
   "cell_type": "code",
   "execution_count": 33,
   "id": "084e0046",
   "metadata": {},
   "outputs": [
    {
     "name": "stdout",
     "output_type": "stream",
     "text": [
      "[Pipeline] ....... (step 1 of 4) Processing dropcolumns, total=   0.1s\n",
      "[Pipeline] . (step 2 of 4) Processing columntransformer, total=   0.4s\n",
      "[Pipeline] ............. (step 3 of 4) Processing smote, total=   0.1s\n",
      "[Pipeline] ..... (step 4 of 4) Processing xgbclassifier, total=   1.1s\n"
     ]
    }
   ],
   "source": [
    "# prepare submission\n",
    "xy = load_train()\n",
    "y = xy.y\n",
    "x = xy.drop('y', axis=1)\n",
    "\n",
    "pipeline.fit(x, y)\n",
    "\n",
    "x_test = load_test()\n",
    "\n",
    "y_pred = pipeline.predict(x_test)\n",
    "\n",
    "write_submission(y_pred)"
   ]
  },
  {
   "cell_type": "markdown",
   "id": "1a7cb5a3",
   "metadata": {},
   "source": [
    "## Висновки."
   ]
  },
  {
   "cell_type": "markdown",
   "id": "866ea29b",
   "metadata": {},
   "source": [
    "Виконання фінального проекту додало більше впевненості у застосуванні методів і підходів засвоєних підчас проходження курсу \"Основи машинного навчання\".\n",
    "\n",
    "Цікавим спостереженням виявилося те, що дуже часто ускладнення пайплайну, додавання додаткових етапів обробки даних призводило до зниження метрики.\n",
    "\n",
    "Особливо важливо зауважити, що метрики отримані локально для вхідного набору даних (навіть з використанням кросвалідації) дуже відрізняються від метрик отриманих на публічному верифікаційному наборі.\n",
    "І це додає великого дискомфорту. Адже покращення даних, використання різних моделей, підбір гіперпараметрів - все це може мати гарний результат на тренувальних даних, але кардинальне зменьшення метрики на Каглі, і навпаки - ненайкращі конфігурації можуть показати неймовірно гарну метрику на Каглі.\n",
    "Я припускаю, що це пов\"язано з тим, що характер пропусків в тренувальному наборі даних і в тестовому - дуже відрізняється."
   ]
  }
 ],
 "metadata": {
  "jupytext": {
   "cell_metadata_filter": "-all",
   "main_language": "python",
   "notebook_metadata_filter": "-all"
  },
  "kernelspec": {
   "display_name": ".env12",
   "language": "python",
   "name": "python3"
  },
  "language_info": {
   "codemirror_mode": {
    "name": "ipython",
    "version": 3
   },
   "file_extension": ".py",
   "mimetype": "text/x-python",
   "name": "python",
   "nbconvert_exporter": "python",
   "pygments_lexer": "ipython3",
   "version": "3.12.0"
  }
 },
 "nbformat": 4,
 "nbformat_minor": 5
}
